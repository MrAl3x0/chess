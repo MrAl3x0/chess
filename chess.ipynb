{
  "cells": [
    {
      "cell_type": "code",
      "source": [
        "!pip install python-chess"
      ],
      "metadata": {
        "id": "QfjIM1NgLj5M",
        "outputId": "9da76984-1cd7-4f6f-fdf5-877b68ac536e",
        "colab": {
          "base_uri": "https://localhost:8080/"
        }
      },
      "id": "QfjIM1NgLj5M",
      "execution_count": 3,
      "outputs": [
        {
          "output_type": "stream",
          "name": "stdout",
          "text": [
            "Collecting python-chess\n",
            "  Downloading python_chess-1.999-py3-none-any.whl.metadata (776 bytes)\n",
            "Collecting chess<2,>=1 (from python-chess)\n",
            "  Downloading chess-1.11.2.tar.gz (6.1 MB)\n",
            "\u001b[2K     \u001b[90m━━━━━━━━━━━━━━━━━━━━━━━━━━━━━━━━━━━━━━━━\u001b[0m \u001b[32m6.1/6.1 MB\u001b[0m \u001b[31m37.8 MB/s\u001b[0m eta \u001b[36m0:00:00\u001b[0m\n",
            "\u001b[?25h  Preparing metadata (setup.py) ... \u001b[?25l\u001b[?25hdone\n",
            "Downloading python_chess-1.999-py3-none-any.whl (1.4 kB)\n",
            "Building wheels for collected packages: chess\n",
            "  Building wheel for chess (setup.py) ... \u001b[?25l\u001b[?25hdone\n",
            "  Created wheel for chess: filename=chess-1.11.2-py3-none-any.whl size=147776 sha256=f4edca37671a273c780a8f176dd28630c207b194b2dca28aeb4356c6a8b61cd6\n",
            "  Stored in directory: /root/.cache/pip/wheels/fb/5d/5c/59a62d8a695285e59ec9c1f66add6f8a9ac4152499a2be0113\n",
            "Successfully built chess\n",
            "Installing collected packages: chess, python-chess\n",
            "Successfully installed chess-1.11.2 python-chess-1.999\n"
          ]
        }
      ]
    },
    {
      "cell_type": "code",
      "execution_count": 4,
      "id": "32f5ae67-10e7-475e-9b0d-5b4a7a7c0128",
      "metadata": {
        "id": "32f5ae67-10e7-475e-9b0d-5b4a7a7c0128"
      },
      "outputs": [],
      "source": [
        "import chess\n",
        "import chess.pgn\n",
        "import pyarrow as pa\n",
        "import pyarrow.parquet as pq\n",
        "import io\n",
        "from tqdm.notebook import tqdm\n",
        "import os\n",
        "import requests\n",
        "from concurrent.futures import ThreadPoolExecutor, as_completed\n",
        "import time\n",
        "from datetime import datetime\n",
        "from dateutil.relativedelta import relativedelta\n",
        "import matplotlib.pyplot as plt\n",
        "%matplotlib inline"
      ]
    },
    {
      "cell_type": "code",
      "execution_count": 8,
      "id": "82feea9c-d5a5-4bb6-8f66-b1ddc506f1c2",
      "metadata": {
        "id": "82feea9c-d5a5-4bb6-8f66-b1ddc506f1c2",
        "outputId": "53f2c117-1338-4154-b3cf-242feb303695",
        "colab": {
          "base_uri": "https://localhost:8080/"
        }
      },
      "outputs": [
        {
          "output_type": "stream",
          "name": "stdout",
          "text": [
            "🚀 Fetching and merging Chess.com PGNs for alexulanch from 2025-3 to 2021-7\n",
            "✅ Nice! You played some games in 2025-03. Adding them to the archive! 📂♟️\n",
            "✅ Nice! You played some games in 2025-02. Adding them to the archive! 📂♟️\n",
            "✅ Nice! You played some games in 2024-11. Adding them to the archive! 📂♟️\n",
            "✅ Nice! You played some games in 2025-01. Adding them to the archive! 📂♟️\n",
            "✅ Nice! You played some games in 2024-12. Adding them to the archive! 📂♟️\n",
            "✅ Nice! You played some games in 2024-10. Adding them to the archive! 📂♟️\n",
            "✅ Nice! You played some games in 2024-09. Adding them to the archive! 📂♟️\n",
            "✅ Nice! You played some games in 2024-06. Adding them to the archive! 📂♟️\n",
            "✅ Nice! You played some games in 2024-07. Adding them to the archive! 📂♟️\n",
            "✅ Nice! You played some games in 2024-08. Adding them to the archive! 📂♟️\n",
            "✅ Nice! You played some games in 2024-05. Adding them to the archive! 📂♟️\n",
            "✅ Nice! You played some games in 2024-04. Adding them to the archive! 📂♟️\n",
            "✅ Nice! You played some games in 2024-03. Adding them to the archive! 📂♟️\n",
            "✅ Nice! You played some games in 2024-02. Adding them to the archive! 📂♟️\n",
            "✅ Nice! You played some games in 2024-01. Adding them to the archive! 📂♟️\n",
            "✅ Nice! You played some games in 2023-11. Adding them to the archive! 📂♟️\n",
            "✅ Nice! You played some games in 2023-12. Adding them to the archive! 📂♟️\n",
            "✅ Nice! You played some games in 2023-10. Adding them to the archive! 📂♟️\n",
            "✅ Nice! You played some games in 2023-09. Adding them to the archive! 📂♟️\n",
            "🤔 Hmm.. looks like you didn't play in 2023-08. Were you on vacation? 🏖️\n",
            "🤔 Hmm.. looks like you didn't play in 2023-07. Were you on vacation? 🏖️\n",
            "🤔 Hmm.. looks like you didn't play in 2023-06. Were you on vacation? 🏖️\n",
            "✅ Nice! You played some games in 2023-05. Adding them to the archive! 📂♟️\n",
            "✅ Nice! You played some games in 2023-03. Adding them to the archive! 📂♟️\n",
            "✅ Nice! You played some games in 2023-04. Adding them to the archive! 📂♟️\n",
            "✅ Nice! You played some games in 2023-02. Adding them to the archive! 📂♟️\n",
            "✅ Nice! You played some games in 2023-01. Adding them to the archive! 📂♟️\n",
            "✅ Nice! You played some games in 2022-12. Adding them to the archive! 📂♟️\n",
            "✅ Nice! You played some games in 2022-11. Adding them to the archive! 📂♟️\n",
            "✅ Nice! You played some games in 2022-10. Adding them to the archive! 📂♟️\n",
            "✅ Nice! You played some games in 2022-09. Adding them to the archive! 📂♟️\n",
            "✅ Nice! You played some games in 2022-08. Adding them to the archive! 📂♟️\n",
            "✅ Nice! You played some games in 2022-05. Adding them to the archive! 📂♟️\n",
            "✅ Nice! You played some games in 2022-07. Adding them to the archive! 📂♟️\n",
            "✅ Nice! You played some games in 2022-06. Adding them to the archive! 📂♟️\n",
            "✅ Nice! You played some games in 2022-04. Adding them to the archive! 📂♟️\n",
            "✅ Nice! You played some games in 2022-03. Adding them to the archive! 📂♟️\n",
            "✅ Nice! You played some games in 2022-02. Adding them to the archive! 📂♟️\n",
            "✅ Nice! You played some games in 2021-12. Adding them to the archive! 📂♟️\n",
            "✅ Nice! You played some games in 2022-01. Adding them to the archive! 📂♟️\n",
            "✅ Nice! You played some games in 2021-11. Adding them to the archive! 📂♟️\n",
            "✅ Nice! You played some games in 2021-10. Adding them to the archive! 📂♟️\n",
            "✅ Nice! You played some games in 2021-09. Adding them to the archive! 📂♟️\n",
            "✅ Nice! You played some games in 2021-08. Adding them to the archive! 📂♟️\n",
            "✅ Nice! You played some games in 2021-07. Adding them to the archive! 📂♟️\n",
            "\n",
            "🎉 Done! All games are saved in '/content/data/chesscom_alexulanch_games_2021-2025.pgn'.\n"
          ]
        }
      ],
      "source": [
        "# Set your Chess.com username\n",
        "username = \"alexulanch\"\n",
        "\n",
        "# Set date range (March 2025 to July 2021)\n",
        "start_date = datetime(2025, 3, 1)\n",
        "end_date = datetime(2021, 7, 1)\n",
        "\n",
        "# Output PGN file (single merged file)\n",
        "output_file = f\"/content/data/chesscom_{username}_games_{end_date.year}-{start_date.year}.pgn\"\n",
        "\n",
        "# User-Agent header to prevent Chess.com from blocking requests\n",
        "headers = {\n",
        "    \"User-Agent\": \"Mozilla/5.0 (Windows NT 10.0; Win64; x64) AppleWebKit/537.36 (KHTML, like Gecko) Chrome/91.0.4472.124 Safari/537.36\"\n",
        "}\n",
        "\n",
        "# Function to fetch PGN data\n",
        "def fetch_pgn(year, month, max_retries=3):\n",
        "    formatted_month = f\"{month:02d}\"  # Ensure two-digit month format\n",
        "    url = f\"https://api.chess.com/pub/player/{username}/games/{year}/{formatted_month}/pgn\"\n",
        "\n",
        "    for attempt in range(max_retries):\n",
        "        try:\n",
        "            response = requests.get(url, headers=headers)\n",
        "            if response.status_code == 200 and response.text.strip():\n",
        "                print(f\"✅ Nice! You played some games in {year}-{formatted_month}. Adding them to the archive! 📂♟️\")\n",
        "                return f\"\\n\\n; Games from {year}-{formatted_month}\\n\" + response.text\n",
        "            elif response.status_code == 200 and not response.text.strip():\n",
        "                print(f\"🤔 Hmm.. looks like you didn't play in {year}-{formatted_month}. Were you on vacation? 🏖️\")\n",
        "                return None  # No games for this month\n",
        "            else:\n",
        "                raise requests.exceptions.RequestException(f\"Unexpected status: {response.status_code}\")\n",
        "        except requests.exceptions.RequestException as e:\n",
        "            time.sleep(2)  # Wait before retrying\n",
        "            if attempt == max_retries - 1:\n",
        "                print(f\"❌ Failed after {max_retries} attempts: {year}-{formatted_month} → {e}\")\n",
        "                return None\n",
        "\n",
        "# Generate all year-month pairs in reverse order\n",
        "date_list = []\n",
        "current_date = start_date\n",
        "while current_date >= end_date:\n",
        "    date_list.append((current_date.year, current_date.month))\n",
        "    current_date -= relativedelta(months=1)\n",
        "\n",
        "# Fetch PGN files in parallel and merge them into one file\n",
        "print(f\"🚀 Fetching and merging Chess.com PGNs for {username} from {start_date.year}-{start_date.month} to {end_date.year}-{end_date.month}\")\n",
        "\n",
        "merged_pgns = []\n",
        "with ThreadPoolExecutor(max_workers=5) as executor:  # Adjust workers based on rate limit\n",
        "    future_to_date = {executor.submit(fetch_pgn, year, month): (year, month) for year, month in date_list}\n",
        "\n",
        "    for future in as_completed(future_to_date):\n",
        "        pgn_data = future.result()\n",
        "        if pgn_data:\n",
        "            merged_pgns.append(pgn_data)\n",
        "\n",
        "# Save all merged PGNs into a single file\n",
        "with open(output_file, \"w\", encoding=\"utf-8\") as outfile:\n",
        "    outfile.write(\"\\n\".join(merged_pgns))\n",
        "\n",
        "print(f\"\\n🎉 Done! All games are saved in '{output_file}'.\")"
      ]
    },
    {
      "cell_type": "code",
      "execution_count": 9,
      "id": "e49c20dd-4afa-4bfd-a016-cc49a36500cd",
      "metadata": {
        "id": "e49c20dd-4afa-4bfd-a016-cc49a36500cd"
      },
      "outputs": [],
      "source": [
        "import os\n",
        "import chess.pgn\n",
        "import pyarrow as pa\n",
        "import pyarrow.parquet as pq\n",
        "\n",
        "def process_pgn_to_parquet(pgn_file_path, output_parquet_path, max_half_moves_per_game=None):\n",
        "    \"\"\"\n",
        "    Process a PGN file, extract metadata and moves, convert all games to FENs, and write to a Parquet file.\n",
        "\n",
        "    Args:\n",
        "        pgn_file_path (str): Path to the PGN file\n",
        "        output_parquet_path (str): Path for the output Parquet file\n",
        "        max_half_moves_per_game (int, optional): Limit the number of half-moves per game\n",
        "\n",
        "    Returns:\n",
        "        dict: Summary of total games and positions processed\n",
        "    \"\"\"\n",
        "    # Define schema including metadata fields\n",
        "    schema = pa.schema([\n",
        "        pa.field('game_id', pa.string()),\n",
        "        pa.field('event', pa.string()),\n",
        "        pa.field('site', pa.string()),\n",
        "        pa.field('date', pa.string()),\n",
        "        pa.field('round', pa.string()),\n",
        "        pa.field('white_player', pa.string()),\n",
        "        pa.field('black_player', pa.string()),\n",
        "        pa.field('white_elo', pa.int32()),\n",
        "        pa.field('black_elo', pa.int32()),\n",
        "        pa.field('result', pa.string()),\n",
        "        pa.field('time_control', pa.string()),\n",
        "        pa.field('termination', pa.string()),\n",
        "        pa.field('eco', pa.string()),\n",
        "        pa.field('eco_url', pa.string()),\n",
        "        pa.field('start_time', pa.string()),\n",
        "        pa.field('end_time', pa.string()),\n",
        "        pa.field('game_link', pa.string()),\n",
        "        pa.field('move_number', pa.int32()),\n",
        "        pa.field('half_move', pa.int32()),\n",
        "        pa.field('fen', pa.string()),\n",
        "        pa.field('move_san', pa.string()),\n",
        "    ])\n",
        "\n",
        "    # Storage for collected data\n",
        "    data = {field.name: [] for field in schema}\n",
        "\n",
        "    total_games = 0\n",
        "    total_positions = 0\n",
        "\n",
        "    # Read PGN file\n",
        "    with open(pgn_file_path, 'r') as pgn_file:\n",
        "        game_id = 0\n",
        "\n",
        "        while True:\n",
        "            game = chess.pgn.read_game(pgn_file)\n",
        "            if game is None:\n",
        "                break  # End of file\n",
        "\n",
        "            game_id += 1\n",
        "            total_games += 1\n",
        "\n",
        "            # Extract metadata with safe defaults\n",
        "            get_meta = lambda key, default=\"Unknown\": game.headers.get(key, default)\n",
        "            white_elo = int(get_meta(\"WhiteElo\", \"0\")) if get_meta(\"WhiteElo\", \"0\").isdigit() else None\n",
        "            black_elo = int(get_meta(\"BlackElo\", \"0\")) if get_meta(\"BlackElo\", \"0\").isdigit() else None\n",
        "\n",
        "            # Store metadata\n",
        "            metadata = {\n",
        "                \"game_id\": str(game_id),\n",
        "                \"event\": get_meta(\"Event\"),\n",
        "                \"site\": get_meta(\"Site\"),\n",
        "                \"date\": get_meta(\"Date\"),\n",
        "                \"round\": get_meta(\"Round\"),\n",
        "                \"white_player\": get_meta(\"White\"),\n",
        "                \"black_player\": get_meta(\"Black\"),\n",
        "                \"white_elo\": white_elo,\n",
        "                \"black_elo\": black_elo,\n",
        "                \"result\": get_meta(\"Result\"),\n",
        "                \"time_control\": get_meta(\"TimeControl\"),\n",
        "                \"termination\": get_meta(\"Termination\"),\n",
        "                \"eco\": get_meta(\"ECO\"),\n",
        "                \"eco_url\": get_meta(\"ECOUrl\"),\n",
        "                \"start_time\": get_meta(\"StartTime\"),\n",
        "                \"end_time\": get_meta(\"EndTime\"),\n",
        "                \"game_link\": get_meta(\"Link\"),\n",
        "            }\n",
        "\n",
        "            # Process moves\n",
        "            board = game.board()\n",
        "            half_move = 0\n",
        "\n",
        "            # Store initial position\n",
        "            for key, value in metadata.items():\n",
        "                data[key].append(value)\n",
        "            data[\"move_number\"].append(0)\n",
        "            data[\"half_move\"].append(half_move)\n",
        "            data[\"fen\"].append(board.fen())\n",
        "            data[\"move_san\"].append(\"\")  # No move yet\n",
        "            total_positions += 1\n",
        "\n",
        "            # Process each move\n",
        "            mainline_moves = list(game.mainline_moves())\n",
        "\n",
        "            if max_half_moves_per_game:\n",
        "                mainline_moves = mainline_moves[:max_half_moves_per_game]\n",
        "\n",
        "            for move in mainline_moves:\n",
        "                san = board.san(move)\n",
        "                board.push(move)\n",
        "                half_move += 1\n",
        "                move_number = (half_move + 1) // 2\n",
        "\n",
        "                for key, value in metadata.items():\n",
        "                    data[key].append(value)\n",
        "                data[\"move_number\"].append(move_number)\n",
        "                data[\"half_move\"].append(half_move)\n",
        "                data[\"fen\"].append(board.fen())\n",
        "                data[\"move_san\"].append(san)\n",
        "                total_positions += 1\n",
        "\n",
        "    # Convert collected data to PyArrow Table and write to Parquet\n",
        "    table = pa.Table.from_pydict(data, schema=schema)\n",
        "    pq.write_table(table, output_parquet_path)\n",
        "\n",
        "    print(f\"\\n🎉 Processing complete! Total games: {total_games}, Total positions: {total_positions}\")\n",
        "    print(f\"✅ Output written to: {output_parquet_path}\")\n",
        "\n",
        "    return {\n",
        "        \"total_games\": total_games,\n",
        "        \"total_positions\": total_positions,\n",
        "        \"output_file\": output_parquet_path\n",
        "    }"
      ]
    },
    {
      "cell_type": "code",
      "execution_count": null,
      "id": "34793ced-6fb0-4a18-871c-570a5733b5bc",
      "metadata": {
        "id": "34793ced-6fb0-4a18-871c-570a5733b5bc",
        "outputId": "00bd2918-f4b1-4a2c-91c5-20cee321c255"
      },
      "outputs": [
        {
          "name": "stdout",
          "output_type": "stream",
          "text": [
            "\n",
            "🎉 Processing complete! Total games: 28847, Total positions: 2004808\n",
            "✅ Output written to: data/chesscom_alexulanch_games_2021-2025.parquet\n",
            "Processed 28847 games\n",
            "Extracted 2004808 FEN positions\n"
          ]
        }
      ],
      "source": [
        "pgn_file_path = f\"data/chesscom_{username}_games_{end_date.year}-{start_date.year}.pgn\"\n",
        "output_parquet_path = f\"data/chesscom_{username}_games_{end_date.year}-{start_date.year}.parquet\"  # Output file path\n",
        "\n",
        "result = process_pgn_to_parquet(\n",
        "    pgn_file_path=pgn_file_path,\n",
        "    output_parquet_path=output_parquet_path,\n",
        ")\n",
        "\n",
        "# Check some statistics about the processing\n",
        "print(f\"Processed {result['total_games']} games\")\n",
        "print(f\"Extracted {result['total_positions']} FEN positions\")"
      ]
    },
    {
      "cell_type": "code",
      "execution_count": 14,
      "id": "49f41e51-e8c2-4621-8b61-7dd93ff052d7",
      "metadata": {
        "id": "49f41e51-e8c2-4621-8b61-7dd93ff052d7",
        "outputId": "1d9626a4-ef96-44a3-d4c9-e1d90b22469a",
        "colab": {
          "base_uri": "https://localhost:8080/"
        }
      },
      "outputs": [
        {
          "output_type": "stream",
          "name": "stdout",
          "text": [
            "Index(['game_id', 'event', 'site', 'date', 'round', 'white_player',\n",
            "       'black_player', 'white_elo', 'black_elo', 'result', 'time_control',\n",
            "       'termination', 'eco', 'eco_url', 'start_time', 'end_time', 'game_link',\n",
            "       'move_number', 'half_move', 'fen', 'move_san'],\n",
            "      dtype='object')\n"
          ]
        }
      ],
      "source": [
        "username = \"alexulanch\"\n",
        "start_date = datetime(2025, 3, 1)\n",
        "end_date = datetime(2021, 7, 1)\n",
        "# Read Parquet file\n",
        "output_parquet_path = f\"/content/data/chesscom_{username}_games_{end_date.year}-{start_date.year}.parquet\"\n",
        "table = pq.read_table(output_parquet_path)\n",
        "df = table.to_pandas()\n",
        "\n",
        "# Display first few rows\n",
        "print(df.columns)"
      ]
    },
    {
      "cell_type": "code",
      "execution_count": 15,
      "id": "8f89a763-8777-4340-ae54-6b523db582a3",
      "metadata": {
        "id": "8f89a763-8777-4340-ae54-6b523db582a3"
      },
      "outputs": [],
      "source": [
        "df_sorted = df.sort_values(by=['date', 'start_time', 'half_move'])"
      ]
    },
    {
      "cell_type": "code",
      "execution_count": 16,
      "id": "01e16cab-2548-4226-9d65-67102f8071a5",
      "metadata": {
        "id": "01e16cab-2548-4226-9d65-67102f8071a5",
        "outputId": "7f760903-b36e-4ab4-afad-7648e5cc89a2",
        "colab": {
          "base_uri": "https://localhost:8080/"
        }
      },
      "outputs": [
        {
          "output_type": "stream",
          "name": "stdout",
          "text": [
            "               date time_control  white_elo  black_elo  played_as_white  \\\n",
            "1956026  2021.07.10      1/86400       1200        584                1   \n",
            "1956027  2021.07.10      1/86400       1200        584                1   \n",
            "1956028  2021.07.10      1/86400       1200        584                1   \n",
            "1956029  2021.07.10      1/86400       1200        584                1   \n",
            "1956030  2021.07.10      1/86400       1200        584                1   \n",
            "\n",
            "         move_number  half_move  \\\n",
            "1956026            0          0   \n",
            "1956027            1          1   \n",
            "1956028            1          2   \n",
            "1956029            2          3   \n",
            "1956030            2          4   \n",
            "\n",
            "                                                       fen move_san  \n",
            "1956026  rnbqkbnr/pppppppp/8/8/8/8/PPPPPPPP/RNBQKBNR w ...           \n",
            "1956027  rnbqkbnr/pppppppp/8/8/4P3/8/PPPP1PPP/RNBQKBNR ...       e4  \n",
            "1956028  rnbqkbnr/ppp1pppp/8/3p4/4P3/8/PPPP1PPP/RNBQKBN...       d5  \n",
            "1956029  rnbqkbnr/ppp1pppp/8/3p4/4P3/8/PPPPNPPP/RNBQKB1...      Ne2  \n",
            "1956030  rnbqkbnr/ppp1pppp/8/8/4p3/8/PPPPNPPP/RNBQKB1R ...     dxe4  \n"
          ]
        }
      ],
      "source": [
        "# Create a single-bit column indicating if you played as White (1) or Black (0)\n",
        "df_sorted['played_as_white'] = (df_sorted['white_player'] == 'alexulanch').astype(int)\n",
        "\n",
        "# Select only essential columns\n",
        "essential_columns = [\n",
        "    'date', 'time_control', 'white_elo', 'black_elo',\n",
        "    'played_as_white', 'move_number', 'half_move', 'fen', 'move_san'\n",
        "]\n",
        "\n",
        "# Create a new reduced DataFrame\n",
        "df_reduced = df_sorted[essential_columns]\n",
        "\n",
        "# Display the cleaned DataFrame\n",
        "import pandas as pd\n",
        "print(df_reduced.head())  # Show first few rows"
      ]
    },
    {
      "cell_type": "code",
      "execution_count": 17,
      "id": "010d55a1-002e-4a56-9400-8c27d96333f2",
      "metadata": {
        "id": "010d55a1-002e-4a56-9400-8c27d96333f2",
        "outputId": "9e490591-1f2a-4c42-bf20-aee80198e91b",
        "colab": {
          "base_uri": "https://localhost:8080/"
        }
      },
      "outputs": [
        {
          "output_type": "stream",
          "name": "stderr",
          "text": [
            "<ipython-input-17-fb1ba35935b8>:6: SettingWithCopyWarning: \n",
            "A value is trying to be set on a copy of a slice from a DataFrame.\n",
            "Try using .loc[row_indexer,col_indexer] = value instead\n",
            "\n",
            "See the caveats in the documentation: https://pandas.pydata.org/pandas-docs/stable/user_guide/indexing.html#returning-a-view-versus-a-copy\n",
            "  df_reduced[f'fen_t-{i}'] = df_reduced['fen'].shift(i)\n",
            "<ipython-input-17-fb1ba35935b8>:6: SettingWithCopyWarning: \n",
            "A value is trying to be set on a copy of a slice from a DataFrame.\n",
            "Try using .loc[row_indexer,col_indexer] = value instead\n",
            "\n",
            "See the caveats in the documentation: https://pandas.pydata.org/pandas-docs/stable/user_guide/indexing.html#returning-a-view-versus-a-copy\n",
            "  df_reduced[f'fen_t-{i}'] = df_reduced['fen'].shift(i)\n"
          ]
        },
        {
          "output_type": "stream",
          "name": "stdout",
          "text": [
            "                                                   fen_t-1  \\\n",
            "1956028  rnbqkbnr/pppppppp/8/8/4P3/8/PPPP1PPP/RNBQKBNR ...   \n",
            "1956029  rnbqkbnr/ppp1pppp/8/3p4/4P3/8/PPPP1PPP/RNBQKBN...   \n",
            "1956030  rnbqkbnr/ppp1pppp/8/3p4/4P3/8/PPPPNPPP/RNBQKB1...   \n",
            "1956031  rnbqkbnr/ppp1pppp/8/8/4p3/8/PPPPNPPP/RNBQKB1R ...   \n",
            "1956032  rnbqkbnr/ppp1pppp/8/8/4p3/5P2/PPPPN1PP/RNBQKB1...   \n",
            "...                                                    ...   \n",
            "94               8/8/5p1p/1pk4P/4P1P1/2K2P2/8/8 b - - 0 47   \n",
            "95              8/8/5p1p/2k4P/1p2P1P1/2K2P2/8/8 w - - 0 48   \n",
            "96              8/8/5p1p/2k4P/1p2P1P1/1K3P2/8/8 b - - 1 48   \n",
            "97              8/8/5p1p/1k5P/1p2P1P1/1K3P2/8/8 w - - 2 49   \n",
            "98                8/8/5p1p/1k5P/1p2PPP1/1K6/8/8 b - - 0 49   \n",
            "\n",
            "                                                   fen_t-2  \\\n",
            "1956028  rnbqkbnr/pppppppp/8/8/8/8/PPPPPPPP/RNBQKBNR w ...   \n",
            "1956029  rnbqkbnr/pppppppp/8/8/4P3/8/PPPP1PPP/RNBQKBNR ...   \n",
            "1956030  rnbqkbnr/ppp1pppp/8/3p4/4P3/8/PPPP1PPP/RNBQKBN...   \n",
            "1956031  rnbqkbnr/ppp1pppp/8/3p4/4P3/8/PPPPNPPP/RNBQKB1...   \n",
            "1956032  rnbqkbnr/ppp1pppp/8/8/4p3/8/PPPPNPPP/RNBQKB1R ...   \n",
            "...                                                    ...   \n",
            "94                8/8/5p1p/1pk4P/6P1/2K1PP2/8/8 w - - 0 47   \n",
            "95               8/8/5p1p/1pk4P/4P1P1/2K2P2/8/8 b - - 0 47   \n",
            "96              8/8/5p1p/2k4P/1p2P1P1/2K2P2/8/8 w - - 0 48   \n",
            "97              8/8/5p1p/2k4P/1p2P1P1/1K3P2/8/8 b - - 1 48   \n",
            "98              8/8/5p1p/1k5P/1p2P1P1/1K3P2/8/8 w - - 2 49   \n",
            "\n",
            "                                                       fen  move_number  \\\n",
            "1956028  rnbqkbnr/ppp1pppp/8/3p4/4P3/8/PPPP1PPP/RNBQKBN...            1   \n",
            "1956029  rnbqkbnr/ppp1pppp/8/3p4/4P3/8/PPPPNPPP/RNBQKB1...            2   \n",
            "1956030  rnbqkbnr/ppp1pppp/8/8/4p3/8/PPPPNPPP/RNBQKB1R ...            2   \n",
            "1956031  rnbqkbnr/ppp1pppp/8/8/4p3/5P2/PPPPN1PP/RNBQKB1...            3   \n",
            "1956032  rnbqkb1r/ppp1pppp/5n2/8/4p3/5P2/PPPPN1PP/RNBQK...            3   \n",
            "...                                                    ...          ...   \n",
            "94              8/8/5p1p/2k4P/1p2P1P1/2K2P2/8/8 w - - 0 48           47   \n",
            "95              8/8/5p1p/2k4P/1p2P1P1/1K3P2/8/8 b - - 1 48           48   \n",
            "96              8/8/5p1p/1k5P/1p2P1P1/1K3P2/8/8 w - - 2 49           48   \n",
            "97                8/8/5p1p/1k5P/1p2PPP1/1K6/8/8 b - - 0 49           49   \n",
            "98                8/8/5p1p/2k4P/1p2PPP1/1K6/8/8 w - - 1 50           49   \n",
            "\n",
            "         half_move time_control  white_elo  black_elo  played_as_white  \n",
            "1956028          2      1/86400       1200        584                1  \n",
            "1956029          3      1/86400       1200        584                1  \n",
            "1956030          4      1/86400       1200        584                1  \n",
            "1956031          5      1/86400       1200        584                1  \n",
            "1956032          6      1/86400       1200        584                1  \n",
            "...            ...          ...        ...        ...              ...  \n",
            "94              94          180       1507       1507                0  \n",
            "95              95          180       1507       1507                0  \n",
            "96              96          180       1507       1507                0  \n",
            "97              97          180       1507       1507                0  \n",
            "98              98          180       1507       1507                0  \n",
            "\n",
            "[2004806 rows x 9 columns] \n",
            "\n",
            "1956028      d5\n",
            "1956029     Ne2\n",
            "1956030    dxe4\n",
            "1956031      f3\n",
            "1956032     Nf6\n",
            "           ... \n",
            "94          b4+\n",
            "95          Kb3\n",
            "96          Kb5\n",
            "97           f4\n",
            "98          Kc5\n",
            "Name: move_san, Length: 2004806, dtype: object\n"
          ]
        }
      ],
      "source": [
        "# Set the sliding window size\n",
        "window_size = 3  # Number of previous positions to include\n",
        "\n",
        "# Create new columns for past positions\n",
        "for i in range(1, window_size):\n",
        "    df_reduced[f'fen_t-{i}'] = df_reduced['fen'].shift(i)\n",
        "\n",
        "# Drop rows with NaN due to shifting\n",
        "df_transformed = df_reduced.dropna()\n",
        "\n",
        "# Select features (X) and target (y)\n",
        "X_cols = [f'fen_t-{i}' for i in range(1, window_size)] + ['fen', 'move_number', 'half_move',\n",
        "                                                           'time_control', 'white_elo', 'black_elo',\n",
        "                                                           'played_as_white']\n",
        "y_col = 'move_san'\n",
        "\n",
        "X = df_transformed[X_cols]\n",
        "y = df_transformed[y_col]\n",
        "\n",
        "# Display transformed data\n",
        "print(X, \"\\n\")\n",
        "print(y)"
      ]
    },
    {
      "cell_type": "code",
      "execution_count": 18,
      "id": "cfa6113a-cf9e-4138-998d-93c2d9870453",
      "metadata": {
        "id": "cfa6113a-cf9e-4138-998d-93c2d9870453",
        "outputId": "0c6afc9a-6318-49dd-924f-265fdd0c474d",
        "colab": {
          "base_uri": "https://localhost:8080/"
        }
      },
      "outputs": [
        {
          "output_type": "stream",
          "name": "stdout",
          "text": [
            "tensor([ 1,  2, 23, 27, 26, 23,  2,  1, 21,  6,  6,  6,  6,  6,  6,  6,  6, 21,\n",
            "        20, 21, 20, 21, 20, 21, 20, 21, 12, 12, 12, 12, 12, 12, 12, 12, 21,  7,\n",
            "         8,  9, 25, 24,  9,  8,  7, 30, 22, 30, 24, 25, 26, 27, 30, 28, 30, 29,\n",
            "        30, 13,  0,  0,  0,  0,  0,  0,  0,  0,  0,  0,  0,  0,  0,  0,  0,  0,\n",
            "         0,  0,  0,  0,  0,  0,  0,  0])\n"
          ]
        }
      ],
      "source": [
        "import torch\n",
        "\n",
        "# Define a custom vocabulary for FEN characters\n",
        "fen_vocab = {\n",
        "    'r': 1, 'n': 2, 'b': 3, 'q': 4, 'k': 5, 'p': 6,  # Black pieces\n",
        "    'R': 7, 'N': 8, 'B': 9, 'Q': 10, 'K': 11, 'P': 12,  # White pieces\n",
        "    '1': 13, '2': 14, '3': 15, '4': 16, '5': 17, '6': 18, '7': 19, '8': 20,  # Empty squares\n",
        "    '/': 21, 'w': 22, 'b': 23, 'K': 24, 'Q': 25, 'k': 26, 'q': 27, '-': 28,  # Game metadata\n",
        "    '0': 29, ' ': 30,  # Turn counter, space separator\n",
        "    '+': 31, 'x': 32, '#': 33,  # Special move symbols\n",
        "    '=': 34, 'O': 35  # Pawn promotion & castling (O-O, O-O-O)\n",
        "}\n",
        "\n",
        "# Function to convert FEN to a tensor of tokens\n",
        "def fen_to_tokens(fen, max_length=80):\n",
        "    tokens = [fen_vocab.get(char, 0) for char in fen]  # Convert FEN to token IDs\n",
        "    tokens = tokens[:max_length]  # Truncate if too long\n",
        "    tokens += [0] * (max_length - len(tokens))  # Pad if too short\n",
        "    return torch.tensor(tokens, dtype=torch.long)\n",
        "\n",
        "# Example FEN position\n",
        "fen_example = \"rnbqkbnr/pppppppp/8/8/8/8/PPPPPPPP/RNBQKBNR w KQkq - 0 1\"\n",
        "\n",
        "# Convert to tokenized format\n",
        "fen_tokens = fen_to_tokens(fen_example)\n",
        "print(fen_tokens)"
      ]
    },
    {
      "cell_type": "code",
      "execution_count": 19,
      "id": "a95b7bd5-62e3-4ad6-afe7-e0cbc241e443",
      "metadata": {
        "id": "a95b7bd5-62e3-4ad6-afe7-e0cbc241e443",
        "outputId": "cdd0d6a9-aa24-4ade-b62e-2865437ddf10",
        "colab": {
          "base_uri": "https://localhost:8080/"
        }
      },
      "outputs": [
        {
          "output_type": "stream",
          "name": "stdout",
          "text": [
            "torch.Size([1, 80, 256])\n"
          ]
        }
      ],
      "source": [
        "import torch.nn as nn\n",
        "\n",
        "# Define embedding layer\n",
        "embedding_dim = 256  # Can be adjusted based on model size\n",
        "vocab_size = len(fen_vocab) + 1  # Account for padding (0)\n",
        "\n",
        "embedding_layer = nn.Embedding(num_embeddings=vocab_size, embedding_dim=embedding_dim)\n",
        "\n",
        "# Convert tokenized FEN to embeddings\n",
        "embedded_fen = embedding_layer(fen_tokens.unsqueeze(0))  # Add batch dimension\n",
        "print(embedded_fen.shape)  # Expected: (1, 80, 256)"
      ]
    },
    {
      "cell_type": "code",
      "execution_count": 20,
      "id": "934831bf-ffa9-49b2-822c-3ea1ca1a7831",
      "metadata": {
        "id": "934831bf-ffa9-49b2-822c-3ea1ca1a7831",
        "outputId": "5f08ba38-5c2c-4d41-c8cf-ad692bf98eb4",
        "colab": {
          "base_uri": "https://localhost:8080/"
        }
      },
      "outputs": [
        {
          "output_type": "execute_result",
          "data": {
            "text/plain": [
              "torch.Size([1, 80, 256])"
            ]
          },
          "metadata": {},
          "execution_count": 20
        }
      ],
      "source": [
        "embedded_fen.shape"
      ]
    },
    {
      "cell_type": "code",
      "execution_count": null,
      "id": "010009ec-1dc8-4e64-80d8-bc386eec701c",
      "metadata": {
        "id": "010009ec-1dc8-4e64-80d8-bc386eec701c"
      },
      "outputs": [],
      "source": []
    }
  ],
  "metadata": {
    "kernelspec": {
      "display_name": "Python (chess)",
      "language": "python",
      "name": "chess"
    },
    "language_info": {
      "codemirror_mode": {
        "name": "ipython",
        "version": 3
      },
      "file_extension": ".py",
      "mimetype": "text/x-python",
      "name": "python",
      "nbconvert_exporter": "python",
      "pygments_lexer": "ipython3",
      "version": "3.10.16"
    },
    "colab": {
      "provenance": [],
      "gpuType": "T4"
    },
    "accelerator": "GPU"
  },
  "nbformat": 4,
  "nbformat_minor": 5
}